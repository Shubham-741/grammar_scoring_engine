{
 "cells": [
  {
   "cell_type": "code",
   "execution_count": null,
   "id": "f110ffd4",
   "metadata": {},
   "outputs": [
    {
     "data": {
      "text/html": [
       "<div>\n",
       "<style scoped>\n",
       "    .dataframe tbody tr th:only-of-type {\n",
       "        vertical-align: middle;\n",
       "    }\n",
       "\n",
       "    .dataframe tbody tr th {\n",
       "        vertical-align: top;\n",
       "    }\n",
       "\n",
       "    .dataframe thead th {\n",
       "        text-align: right;\n",
       "    }\n",
       "</style>\n",
       "<table border=\"1\" class=\"dataframe\">\n",
       "  <thead>\n",
       "    <tr style=\"text-align: right;\">\n",
       "      <th></th>\n",
       "      <th>client_id</th>\n",
       "      <th>path</th>\n",
       "      <th>sentence_id</th>\n",
       "      <th>sentence</th>\n",
       "      <th>sentence_domain</th>\n",
       "      <th>up_votes</th>\n",
       "      <th>down_votes</th>\n",
       "      <th>age</th>\n",
       "      <th>gender</th>\n",
       "      <th>accents</th>\n",
       "      <th>variant</th>\n",
       "      <th>locale</th>\n",
       "      <th>segment</th>\n",
       "    </tr>\n",
       "  </thead>\n",
       "  <tbody>\n",
       "    <tr>\n",
       "      <th>0</th>\n",
       "      <td>116398939d6be70fc5fb532924a130c0adf286ac283499...</td>\n",
       "      <td>common_voice_en_41923025.mp3</td>\n",
       "      <td>f5a2a431746c5229ab696ba0e1a518fe7b26e208ff3b84...</td>\n",
       "      <td>He was born at Wichenford, in Worcestershire, ...</td>\n",
       "      <td>NaN</td>\n",
       "      <td>2</td>\n",
       "      <td>0</td>\n",
       "      <td>thirties</td>\n",
       "      <td>NaN</td>\n",
       "      <td>United States English</td>\n",
       "      <td>NaN</td>\n",
       "      <td>en</td>\n",
       "      <td>NaN</td>\n",
       "    </tr>\n",
       "    <tr>\n",
       "      <th>1</th>\n",
       "      <td>24a4da2e8f053a45a0715849c222a40a4b0da9872efb2e...</td>\n",
       "      <td>common_voice_en_42356358.mp3</td>\n",
       "      <td>f6f009587d8812c147af1cc05079e1fcd8120c8a98cdf8...</td>\n",
       "      <td>The Portuguese division was overrun and withdr...</td>\n",
       "      <td>NaN</td>\n",
       "      <td>2</td>\n",
       "      <td>0</td>\n",
       "      <td>teens</td>\n",
       "      <td>NaN</td>\n",
       "      <td>United States English</td>\n",
       "      <td>NaN</td>\n",
       "      <td>en</td>\n",
       "      <td>NaN</td>\n",
       "    </tr>\n",
       "    <tr>\n",
       "      <th>2</th>\n",
       "      <td>30849595699bc853c3810a78448acede46888b4e2d0809...</td>\n",
       "      <td>common_voice_en_42165090.mp3</td>\n",
       "      <td>f69afa5e77812e8be0085c874d2a9767323c78ffb43ba6...</td>\n",
       "      <td>Her health by this stage was also poor.</td>\n",
       "      <td>NaN</td>\n",
       "      <td>2</td>\n",
       "      <td>0</td>\n",
       "      <td>NaN</td>\n",
       "      <td>NaN</td>\n",
       "      <td>NaN</td>\n",
       "      <td>NaN</td>\n",
       "      <td>en</td>\n",
       "      <td>NaN</td>\n",
       "    </tr>\n",
       "    <tr>\n",
       "      <th>3</th>\n",
       "      <td>42d53f34c1bc50f7a7c4ed1765a8d1ffeaf5cd441513cc...</td>\n",
       "      <td>common_voice_en_41921729.mp3</td>\n",
       "      <td>f5739acbefdbd3aac990792966fac4d40dcb39eb8dfa21...</td>\n",
       "      <td>His sporting interests outside of cricket incl...</td>\n",
       "      <td>NaN</td>\n",
       "      <td>2</td>\n",
       "      <td>0</td>\n",
       "      <td>nineties</td>\n",
       "      <td>NaN</td>\n",
       "      <td>England English</td>\n",
       "      <td>NaN</td>\n",
       "      <td>en</td>\n",
       "      <td>NaN</td>\n",
       "    </tr>\n",
       "    <tr>\n",
       "      <th>4</th>\n",
       "      <td>436b9e1f9da710d74eb01209f8f269bee70e93cadf2053...</td>\n",
       "      <td>common_voice_en_42528393.mp3</td>\n",
       "      <td>f7d35c60d76f025c45a9495757d1ee0e2b7c206317a288...</td>\n",
       "      <td>The following year he was elected to be part o...</td>\n",
       "      <td>NaN</td>\n",
       "      <td>2</td>\n",
       "      <td>0</td>\n",
       "      <td>teens</td>\n",
       "      <td>NaN</td>\n",
       "      <td>United States English</td>\n",
       "      <td>NaN</td>\n",
       "      <td>en</td>\n",
       "      <td>NaN</td>\n",
       "    </tr>\n",
       "  </tbody>\n",
       "</table>\n",
       "</div>"
      ],
      "text/plain": [
       "                                           client_id  \\\n",
       "0  116398939d6be70fc5fb532924a130c0adf286ac283499...   \n",
       "1  24a4da2e8f053a45a0715849c222a40a4b0da9872efb2e...   \n",
       "2  30849595699bc853c3810a78448acede46888b4e2d0809...   \n",
       "3  42d53f34c1bc50f7a7c4ed1765a8d1ffeaf5cd441513cc...   \n",
       "4  436b9e1f9da710d74eb01209f8f269bee70e93cadf2053...   \n",
       "\n",
       "                           path  \\\n",
       "0  common_voice_en_41923025.mp3   \n",
       "1  common_voice_en_42356358.mp3   \n",
       "2  common_voice_en_42165090.mp3   \n",
       "3  common_voice_en_41921729.mp3   \n",
       "4  common_voice_en_42528393.mp3   \n",
       "\n",
       "                                         sentence_id  \\\n",
       "0  f5a2a431746c5229ab696ba0e1a518fe7b26e208ff3b84...   \n",
       "1  f6f009587d8812c147af1cc05079e1fcd8120c8a98cdf8...   \n",
       "2  f69afa5e77812e8be0085c874d2a9767323c78ffb43ba6...   \n",
       "3  f5739acbefdbd3aac990792966fac4d40dcb39eb8dfa21...   \n",
       "4  f7d35c60d76f025c45a9495757d1ee0e2b7c206317a288...   \n",
       "\n",
       "                                            sentence sentence_domain  \\\n",
       "0  He was born at Wichenford, in Worcestershire, ...             NaN   \n",
       "1  The Portuguese division was overrun and withdr...             NaN   \n",
       "2            Her health by this stage was also poor.             NaN   \n",
       "3  His sporting interests outside of cricket incl...             NaN   \n",
       "4  The following year he was elected to be part o...             NaN   \n",
       "\n",
       "   up_votes  down_votes       age gender                accents  variant  \\\n",
       "0         2           0  thirties    NaN  United States English      NaN   \n",
       "1         2           0     teens    NaN  United States English      NaN   \n",
       "2         2           0       NaN    NaN                    NaN      NaN   \n",
       "3         2           0  nineties    NaN        England English      NaN   \n",
       "4         2           0     teens    NaN  United States English      NaN   \n",
       "\n",
       "  locale  segment  \n",
       "0     en      NaN  \n",
       "1     en      NaN  \n",
       "2     en      NaN  \n",
       "3     en      NaN  \n",
       "4     en      NaN  "
      ]
     },
     "execution_count": 4,
     "metadata": {},
     "output_type": "execute_result"
    }
   ],
   "source": [
    "import pandas as pd\n",
    "# Read the 'validated.tsv' file from the Common Voice dataset using tab as a separator\n",
    "# Make sure the file path is correct and points to your local machine\n",
    "df = pd.read_csv(r\"C:\\Users\\asus\\Downloads\\Grammar Scoring\\cv-corpus-21.0-delta-2025-03-14-en\\cv-corpus-21.0-delta-2025-03-14\\en\\validated.tsv\", sep='\\t')\n",
    "# Display the first few rows of the dataframe to inspect the data\n",
    "df.head()\n"
   ]
  },
  {
   "cell_type": "code",
   "execution_count": 5,
   "id": "f0046425",
   "metadata": {},
   "outputs": [
    {
     "name": "stdout",
     "output_type": "stream",
     "text": [
      "File Exists: True\n"
     ]
    }
   ],
   "source": [
    "import os\n",
    "\n",
    "# Define the audio directory path (adjust as needed)\n",
    "audio_dir = r\"C:\\Users\\asus\\Downloads\\Grammar Scoring\\cv-corpus-21.0-delta-2025-03-14-en\\cv-corpus-21.0-delta-2025-03-14\\en\\clips\"\n",
    "\n",
    "# Check if the first audio file exists\n",
    "audio_path = os.path.join(audio_dir, df.iloc[0]['path'])\n",
    "print(\"File Exists:\", os.path.exists(audio_path))\n"
   ]
  },
  {
   "cell_type": "code",
   "execution_count": null,
   "id": "4d354e07",
   "metadata": {},
   "outputs": [
    {
     "data": {
      "text/html": [
       "\n",
       "                <audio  controls=\"controls\" >\n",
       "                    <source src=\"data:audio/mpeg;base64,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\" type=\"audio/mpeg\" />\n",
       "                    Your browser does not support the audio element.\n",
       "                </audio>\n",
       "              "
      ],
      "text/plain": [
       "<IPython.lib.display.Audio object>"
      ]
     },
     "execution_count": 6,
     "metadata": {},
     "output_type": "execute_result"
    }
   ],
   "source": [
    "# Import IPython display module to play audio directly in notebooks\n",
    "import IPython.display as ipd\n",
    "\n",
    "# Play the audio file located at 'audio_path'\n",
    "# Make sure 'audio_path' is a valid path to an audio file (e.g., .mp3 or .wav)\n",
    "\n",
    "ipd.Audio(audio_path)\n"
   ]
  },
  {
   "cell_type": "code",
   "execution_count": null,
   "id": "bb3da212",
   "metadata": {},
   "outputs": [
    {
     "name": "stdout",
     "output_type": "stream",
     "text": [
      "Collecting git+https://github.com/openai/whisper.git\n",
      "  Cloning https://github.com/openai/whisper.git to c:\\users\\asus\\appdata\\local\\temp\\pip-req-build-wg_wz4u5\n",
      "  Resolved https://github.com/openai/whisper.git to commit 517a43ecd132a2089d85f4ebc044728a71d49f6e\n",
      "  Installing build dependencies: started\n",
      "  Installing build dependencies: finished with status 'done'\n",
      "  Getting requirements to build wheel: started\n",
      "  Getting requirements to build wheel: finished with status 'done'\n",
      "  Preparing metadata (pyproject.toml): started\n",
      "  Preparing metadata (pyproject.toml): finished with status 'done'\n",
      "Requirement already satisfied: more-itertools in c:\\users\\asus\\appdata\\local\\packages\\pythonsoftwarefoundation.python.3.9_qbz5n2kfra8p0\\localcache\\local-packages\\python39\\site-packages (from openai-whisper==20240930) (10.6.0)\n",
      "Requirement already satisfied: numba in c:\\users\\asus\\appdata\\local\\packages\\pythonsoftwarefoundation.python.3.9_qbz5n2kfra8p0\\localcache\\local-packages\\python39\\site-packages (from openai-whisper==20240930) (0.60.0)\n",
      "Requirement already satisfied: numpy in c:\\users\\asus\\appdata\\local\\packages\\pythonsoftwarefoundation.python.3.9_qbz5n2kfra8p0\\localcache\\local-packages\\python39\\site-packages (from openai-whisper==20240930) (1.26.4)\n",
      "Requirement already satisfied: tiktoken in c:\\users\\asus\\appdata\\local\\packages\\pythonsoftwarefoundation.python.3.9_qbz5n2kfra8p0\\localcache\\local-packages\\python39\\site-packages (from openai-whisper==20240930) (0.9.0)\n",
      "Requirement already satisfied: torch in c:\\users\\asus\\appdata\\local\\packages\\pythonsoftwarefoundation.python.3.9_qbz5n2kfra8p0\\localcache\\local-packages\\python39\\site-packages (from openai-whisper==20240930) (2.5.1)\n",
      "Requirement already satisfied: tqdm in c:\\users\\asus\\appdata\\local\\packages\\pythonsoftwarefoundation.python.3.9_qbz5n2kfra8p0\\localcache\\local-packages\\python39\\site-packages (from openai-whisper==20240930) (4.67.1)\n",
      "Requirement already satisfied: llvmlite<0.44,>=0.43.0dev0 in c:\\users\\asus\\appdata\\local\\packages\\pythonsoftwarefoundation.python.3.9_qbz5n2kfra8p0\\localcache\\local-packages\\python39\\site-packages (from numba->openai-whisper==20240930) (0.43.0)\n",
      "Requirement already satisfied: regex>=2022.1.18 in c:\\users\\asus\\appdata\\local\\packages\\pythonsoftwarefoundation.python.3.9_qbz5n2kfra8p0\\localcache\\local-packages\\python39\\site-packages (from tiktoken->openai-whisper==20240930) (2024.4.16)\n",
      "Requirement already satisfied: requests>=2.26.0 in c:\\users\\asus\\appdata\\local\\packages\\pythonsoftwarefoundation.python.3.9_qbz5n2kfra8p0\\localcache\\local-packages\\python39\\site-packages (from tiktoken->openai-whisper==20240930) (2.32.3)\n",
      "Requirement already satisfied: filelock in c:\\users\\asus\\appdata\\local\\packages\\pythonsoftwarefoundation.python.3.9_qbz5n2kfra8p0\\localcache\\local-packages\\python39\\site-packages (from torch->openai-whisper==20240930) (3.13.4)\n",
      "Requirement already satisfied: typing-extensions>=4.8.0 in c:\\users\\asus\\appdata\\local\\packages\\pythonsoftwarefoundation.python.3.9_qbz5n2kfra8p0\\localcache\\local-packages\\python39\\site-packages (from torch->openai-whisper==20240930) (4.11.0)\n",
      "Requirement already satisfied: networkx in c:\\users\\asus\\appdata\\local\\packages\\pythonsoftwarefoundation.python.3.9_qbz5n2kfra8p0\\localcache\\local-packages\\python39\\site-packages (from torch->openai-whisper==20240930) (3.2.1)\n",
      "Requirement already satisfied: jinja2 in c:\\users\\asus\\appdata\\local\\packages\\pythonsoftwarefoundation.python.3.9_qbz5n2kfra8p0\\localcache\\local-packages\\python39\\site-packages (from torch->openai-whisper==20240930) (3.1.3)\n",
      "Requirement already satisfied: fsspec in c:\\users\\asus\\appdata\\local\\packages\\pythonsoftwarefoundation.python.3.9_qbz5n2kfra8p0\\localcache\\local-packages\\python39\\site-packages (from torch->openai-whisper==20240930) (2024.3.1)\n",
      "Requirement already satisfied: sympy==1.13.1 in c:\\users\\asus\\appdata\\local\\packages\\pythonsoftwarefoundation.python.3.9_qbz5n2kfra8p0\\localcache\\local-packages\\python39\\site-packages (from torch->openai-whisper==20240930) (1.13.1)\n",
      "Requirement already satisfied: mpmath<1.4,>=1.1.0 in c:\\users\\asus\\appdata\\local\\packages\\pythonsoftwarefoundation.python.3.9_qbz5n2kfra8p0\\localcache\\local-packages\\python39\\site-packages (from sympy==1.13.1->torch->openai-whisper==20240930) (1.3.0)\n",
      "Requirement already satisfied: colorama in c:\\users\\asus\\appdata\\local\\packages\\pythonsoftwarefoundation.python.3.9_qbz5n2kfra8p0\\localcache\\local-packages\\python39\\site-packages (from tqdm->openai-whisper==20240930) (0.4.6)\n",
      "Requirement already satisfied: charset-normalizer<4,>=2 in c:\\users\\asus\\appdata\\local\\packages\\pythonsoftwarefoundation.python.3.9_qbz5n2kfra8p0\\localcache\\local-packages\\python39\\site-packages (from requests>=2.26.0->tiktoken->openai-whisper==20240930) (3.3.2)\n",
      "Requirement already satisfied: idna<4,>=2.5 in c:\\users\\asus\\appdata\\local\\packages\\pythonsoftwarefoundation.python.3.9_qbz5n2kfra8p0\\localcache\\local-packages\\python39\\site-packages (from requests>=2.26.0->tiktoken->openai-whisper==20240930) (3.7)\n",
      "Requirement already satisfied: urllib3<3,>=1.21.1 in c:\\users\\asus\\appdata\\local\\packages\\pythonsoftwarefoundation.python.3.9_qbz5n2kfra8p0\\localcache\\local-packages\\python39\\site-packages (from requests>=2.26.0->tiktoken->openai-whisper==20240930) (2.2.1)\n",
      "Requirement already satisfied: certifi>=2017.4.17 in c:\\users\\asus\\appdata\\local\\packages\\pythonsoftwarefoundation.python.3.9_qbz5n2kfra8p0\\localcache\\local-packages\\python39\\site-packages (from requests>=2.26.0->tiktoken->openai-whisper==20240930) (2024.2.2)\n",
      "Requirement already satisfied: MarkupSafe>=2.0 in c:\\users\\asus\\appdata\\local\\packages\\pythonsoftwarefoundation.python.3.9_qbz5n2kfra8p0\\localcache\\local-packages\\python39\\site-packages (from jinja2->torch->openai-whisper==20240930) (2.1.5)\n",
      "Note: you may need to restart the kernel to use updated packages.\n"
     ]
    },
    {
     "name": "stderr",
     "output_type": "stream",
     "text": [
      "  Running command git clone --filter=blob:none --quiet https://github.com/openai/whisper.git 'C:\\Users\\asus\\AppData\\Local\\Temp\\pip-req-build-wg_wz4u5'\n",
      "\n",
      "[notice] A new release of pip is available: 24.0 -> 25.0.1\n",
      "[notice] To update, run: C:\\Users\\asus\\AppData\\Local\\Microsoft\\WindowsApps\\PythonSoftwareFoundation.Python.3.9_qbz5n2kfra8p0\\python.exe -m pip install --upgrade pip\n"
     ]
    }
   ],
   "source": [
    "# Install OpenAI's Whisper speech recognition model directly from its GitHub repository\n",
    "pip install git+https://github.com/openai/whisper.git\n"
   ]
  },
  {
   "cell_type": "code",
   "execution_count": 8,
   "id": "32a56ee4",
   "metadata": {},
   "outputs": [
    {
     "name": "stderr",
     "output_type": "stream",
     "text": [
      "C:\\Users\\asus\\AppData\\Local\\Packages\\PythonSoftwareFoundation.Python.3.9_qbz5n2kfra8p0\\LocalCache\\local-packages\\Python39\\site-packages\\whisper\\__init__.py:150: FutureWarning: You are using `torch.load` with `weights_only=False` (the current default value), which uses the default pickle module implicitly. It is possible to construct malicious pickle data which will execute arbitrary code during unpickling (See https://github.com/pytorch/pytorch/blob/main/SECURITY.md#untrusted-models for more details). In a future release, the default value for `weights_only` will be flipped to `True`. This limits the functions that could be executed during unpickling. Arbitrary objects will no longer be allowed to be loaded via this mode unless they are explicitly allowlisted by the user via `torch.serialization.add_safe_globals`. We recommend you start setting `weights_only=True` for any use case where you don't have full control of the loaded file. Please open an issue on GitHub for any issues related to this experimental feature.\n",
      "  checkpoint = torch.load(fp, map_location=device)\n"
     ]
    }
   ],
   "source": [
    "import whisper\n",
    "\n",
    "# Load Whisper Model\n",
    "whisper_model = whisper.load_model(\"base\")\n"
   ]
  },
  {
   "cell_type": "code",
   "execution_count": 9,
   "id": "3846065d",
   "metadata": {},
   "outputs": [
    {
     "name": "stdout",
     "output_type": "stream",
     "text": [
      "File Exists: True\n"
     ]
    }
   ],
   "source": [
    "import os\n",
    "\n",
    "audio_dir = r\"C:\\Users\\asus\\Downloads\\Grammar Scoring\\cv-corpus-21.0-delta-2025-03-14-en\\cv-corpus-21.0-delta-2025-03-14\\en\\clips\"\n",
    "audio_path = os.path.join(audio_dir, \"common_voice_en_41923025.mp3\")\n",
    "\n",
    "print(\"File Exists:\", os.path.exists(audio_path))  # Should print True\n"
   ]
  },
  {
   "cell_type": "code",
   "execution_count": 10,
   "id": "02fb5c35",
   "metadata": {},
   "outputs": [
    {
     "name": "stdout",
     "output_type": "stream",
     "text": [
      "Audio Path: C:\\Users\\asus\\Downloads\\Grammar Scoring\\cv-corpus-21.0-delta-2025-03-14-en\\cv-corpus-21.0-delta-2025-03-14\\en\\clips\\common_voice_en_41923025.mp3\n",
      "File Exists: True\n"
     ]
    }
   ],
   "source": [
    "import os\n",
    "\n",
    "audio_dir = r\"C:\\Users\\asus\\Downloads\\Grammar Scoring\\cv-corpus-21.0-delta-2025-03-14-en\\cv-corpus-21.0-delta-2025-03-14\\en\\clips\"\n",
    "audio_path = os.path.join(audio_dir, \"common_voice_en_41923025.mp3\")  # Replace with a real filename\n",
    "\n",
    "print(\"Audio Path:\", audio_path)\n",
    "print(\"File Exists:\", os.path.exists(audio_path))\n"
   ]
  },
  {
   "cell_type": "code",
   "execution_count": null,
   "id": "a6498f35",
   "metadata": {},
   "outputs": [
    {
     "name": "stdout",
     "output_type": "stream",
     "text": [
      "Requirement already satisfied: pydub in c:\\users\\asus\\appdata\\local\\packages\\pythonsoftwarefoundation.python.3.9_qbz5n2kfra8p0\\localcache\\local-packages\\python39\\site-packages (0.25.1)\n",
      "Note: you may need to restart the kernel to use updated packages.\n"
     ]
    },
    {
     "name": "stderr",
     "output_type": "stream",
     "text": [
      "\n",
      "[notice] A new release of pip is available: 24.0 -> 25.0.1\n",
      "[notice] To update, run: C:\\Users\\asus\\AppData\\Local\\Microsoft\\WindowsApps\\PythonSoftwareFoundation.Python.3.9_qbz5n2kfra8p0\\python.exe -m pip install --upgrade pip\n"
     ]
    }
   ],
   "source": [
    "# Install the pydub library for simple audio processing (e.g., slicing, format conversion)\n",
    "pip install pydub"
   ]
  },
  {
   "cell_type": "code",
   "execution_count": null,
   "id": "e826e892",
   "metadata": {},
   "outputs": [
    {
     "name": "stdout",
     "output_type": "stream",
     "text": [
      "Requirement already satisfied: imageio[ffmpeg] in c:\\users\\asus\\appdata\\local\\packages\\pythonsoftwarefoundation.python.3.9_qbz5n2kfra8p0\\localcache\\local-packages\\python39\\site-packages (2.36.1)\n",
      "Requirement already satisfied: numpy in c:\\users\\asus\\appdata\\local\\packages\\pythonsoftwarefoundation.python.3.9_qbz5n2kfra8p0\\localcache\\local-packages\\python39\\site-packages (from imageio[ffmpeg]) (1.26.4)\n",
      "Requirement already satisfied: pillow>=8.3.2 in c:\\users\\asus\\appdata\\local\\packages\\pythonsoftwarefoundation.python.3.9_qbz5n2kfra8p0\\localcache\\local-packages\\python39\\site-packages (from imageio[ffmpeg]) (10.3.0)\n",
      "Requirement already satisfied: imageio-ffmpeg in c:\\users\\asus\\appdata\\local\\packages\\pythonsoftwarefoundation.python.3.9_qbz5n2kfra8p0\\localcache\\local-packages\\python39\\site-packages (from imageio[ffmpeg]) (0.6.0)\n",
      "Requirement already satisfied: psutil in c:\\users\\asus\\appdata\\local\\packages\\pythonsoftwarefoundation.python.3.9_qbz5n2kfra8p0\\localcache\\local-packages\\python39\\site-packages (from imageio[ffmpeg]) (6.1.1)\n",
      "Note: you may need to restart the kernel to use updated packages.\n"
     ]
    },
    {
     "name": "stderr",
     "output_type": "stream",
     "text": [
      "\n",
      "[notice] A new release of pip is available: 24.0 -> 25.0.1\n",
      "[notice] To update, run: C:\\Users\\asus\\AppData\\Local\\Microsoft\\WindowsApps\\PythonSoftwareFoundation.Python.3.9_qbz5n2kfra8p0\\python.exe -m pip install --upgrade pip\n"
     ]
    }
   ],
   "source": [
    "# Install the imageio library along with its ffmpeg plugin\n",
    "# This enables reading and writing of video/audio files using ffmpeg\n",
    "pip install imageio[ffmpeg]"
   ]
  },
  {
   "cell_type": "code",
   "execution_count": 13,
   "id": "d09b7d72",
   "metadata": {},
   "outputs": [
    {
     "name": "stderr",
     "output_type": "stream",
     "text": [
      "C:\\Users\\asus\\AppData\\Local\\Packages\\PythonSoftwareFoundation.Python.3.9_qbz5n2kfra8p0\\LocalCache\\local-packages\\Python39\\site-packages\\whisper\\transcribe.py:132: UserWarning: FP16 is not supported on CPU; using FP32 instead\n",
      "  warnings.warn(\"FP16 is not supported on CPU; using FP32 instead\")\n"
     ]
    },
    {
     "name": "stdout",
     "output_type": "stream",
     "text": [
      "Transcription:  He was born at Wichonford in Worshishur, an educated at Balliol College, Oxford.\n"
     ]
    }
   ],
   "source": [
    "from pydub import AudioSegment\n",
    "import os\n",
    "\n",
    "# Check if the audio file exists\n",
    "if os.path.exists(audio_path):\n",
    "\ttry:\n",
    "\t\t# Convert MP3 to WAV\n",
    "\t\twav_path = audio_path.replace(\".mp3\", \".wav\")\n",
    "\t\taudio = AudioSegment.from_mp3(audio_path)\n",
    "\t\taudio.export(wav_path, format=\"wav\")\n",
    "\n",
    "\t\t# Transcribe again\n",
    "\t\tresult = whisper_model.transcribe(wav_path)\n",
    "\t\ttranscription = result['text']\n",
    "\t\tprint(\"Transcription:\", transcription)\n",
    "\texcept Exception as e:\n",
    "\t\tprint(f\"An error occurred during processing: {e}\")\n",
    "else:\n",
    "\tprint(f\"Error: The file '{audio_path}' does not exist.\")\n"
   ]
  },
  {
   "cell_type": "code",
   "execution_count": null,
   "id": "b8c1b3a4",
   "metadata": {},
   "outputs": [
    {
     "name": "stdout",
     "output_type": "stream",
     "text": [
      "Requirement already satisfied: ffmpeg-python in c:\\users\\asus\\appdata\\local\\packages\\pythonsoftwarefoundation.python.3.9_qbz5n2kfra8p0\\localcache\\local-packages\\python39\\site-packages (0.2.0)\n",
      "Requirement already satisfied: future in c:\\users\\asus\\appdata\\local\\packages\\pythonsoftwarefoundation.python.3.9_qbz5n2kfra8p0\\localcache\\local-packages\\python39\\site-packages (from ffmpeg-python) (1.0.0)\n",
      "Note: you may need to restart the kernel to use updated packages.\n"
     ]
    },
    {
     "name": "stderr",
     "output_type": "stream",
     "text": [
      "\n",
      "[notice] A new release of pip is available: 24.0 -> 25.0.1\n",
      "[notice] To update, run: C:\\Users\\asus\\AppData\\Local\\Microsoft\\WindowsApps\\PythonSoftwareFoundation.Python.3.9_qbz5n2kfra8p0\\python.exe -m pip install --upgrade pip\n"
     ]
    }
   ],
   "source": [
    "# Install the ffmpeg-python library, a Python wrapper for FFmpeg command-line tool\n",
    "# Allows programmatic control of audio/video processing (e.g., trimming, format conversion)\n",
    "pip install ffmpeg-python"
   ]
  },
  {
   "cell_type": "code",
   "execution_count": 22,
   "id": "113cb594",
   "metadata": {},
   "outputs": [
    {
     "name": "stdout",
     "output_type": "stream",
     "text": [
      "ffmpeg Path Exists: True\n",
      "ffprobe Path Exists: True\n",
      "Checking if audio file exists: True\n",
      "WAV File Created: True\n"
     ]
    }
   ],
   "source": [
    "import os\n",
    "from pydub import AudioSegment\n",
    "\n",
    "# Set ffmpeg and ffprobe paths\n",
    "AudioSegment.converter = r\"C:\\ProgramData\\chocolatey\\bin\\ffmpeg.exe\"  # Update this path if needed\n",
    "AudioSegment.ffprobe = r\"C:\\ProgramData\\chocolatey\\bin\\ffmpeg.exe\"  # Update this path if needed\n",
    "\n",
    "# Print ffmpeg paths to verify\n",
    "print(\"ffmpeg Path Exists:\", os.path.exists(AudioSegment.converter))\n",
    "print(\"ffprobe Path Exists:\", os.path.exists(AudioSegment.ffprobe))\n",
    "\n",
    "# Define your audio file path\n",
    "audio_path = r\"C:\\Users\\asus\\Downloads\\Grammar Scoring\\cv-corpus-21.0-delta-2025-03-14-en\\cv-corpus-21.0-delta-2025-03-14\\en\\clips\\Recording-2.mp3\"\n",
    "\n",
    "# Print file existence check\n",
    "print(f\"Checking if audio file exists: {os.path.exists(audio_path)}\")\n",
    "if not os.path.exists(audio_path):\n",
    "    print(\"Error: Audio file does not exist! Check the path.\")\n",
    "    exit()\n",
    "\n",
    "# Convert MP3 to WAV\n",
    "wav_path = audio_path.replace(\".mp3\", \".wav\")\n",
    "\n",
    "try:\n",
    "    audio = AudioSegment.from_mp3(audio_path)\n",
    "    audio.export(wav_path, format=\"wav\")\n",
    "\n",
    "    print(f\"WAV File Created: {os.path.exists(wav_path)}\")\n",
    "except FileNotFoundError as e:\n",
    "    print(f\"Error: {e}\")\n",
    "except Exception as e:\n",
    "    print(f\"An unexpected error occurred: {e}\")\n"
   ]
  },
  {
   "cell_type": "code",
   "execution_count": 23,
   "id": "f0b909b2",
   "metadata": {},
   "outputs": [
    {
     "name": "stdout",
     "output_type": "stream",
     "text": [
      "Transcription:  She don't like to lay her body in it either.\n"
     ]
    }
   ],
   "source": [
    "result = whisper_model.transcribe(wav_path)\n",
    "transcription = result['text']\n",
    "print(\"Transcription:\", transcription)\n"
   ]
  },
  {
   "cell_type": "code",
   "execution_count": null,
   "id": "a117ebde",
   "metadata": {},
   "outputs": [
    {
     "name": "stdout",
     "output_type": "stream",
     "text": [
      "Collecting language-tool-python\n",
      "  Downloading language_tool_python-2.9.2-py3-none-any.whl.metadata (54 kB)\n",
      "     ---------------------------------------- 0.0/54.7 kB ? eta -:--:--\n",
      "     ---------------------------------------- 54.7/54.7 kB 1.4 MB/s eta 0:00:00\n",
      "Requirement already satisfied: requests in c:\\users\\asus\\appdata\\local\\packages\\pythonsoftwarefoundation.python.3.9_qbz5n2kfra8p0\\localcache\\local-packages\\python39\\site-packages (from language-tool-python) (2.32.3)\n",
      "Requirement already satisfied: tqdm in c:\\users\\asus\\appdata\\local\\packages\\pythonsoftwarefoundation.python.3.9_qbz5n2kfra8p0\\localcache\\local-packages\\python39\\site-packages (from language-tool-python) (4.67.1)\n",
      "Requirement already satisfied: psutil in c:\\users\\asus\\appdata\\local\\packages\\pythonsoftwarefoundation.python.3.9_qbz5n2kfra8p0\\localcache\\local-packages\\python39\\site-packages (from language-tool-python) (6.1.1)\n",
      "Requirement already satisfied: toml in c:\\users\\asus\\appdata\\local\\packages\\pythonsoftwarefoundation.python.3.9_qbz5n2kfra8p0\\localcache\\local-packages\\python39\\site-packages (from language-tool-python) (0.10.2)\n",
      "Requirement already satisfied: charset-normalizer<4,>=2 in c:\\users\\asus\\appdata\\local\\packages\\pythonsoftwarefoundation.python.3.9_qbz5n2kfra8p0\\localcache\\local-packages\\python39\\site-packages (from requests->language-tool-python) (3.3.2)\n",
      "Requirement already satisfied: idna<4,>=2.5 in c:\\users\\asus\\appdata\\local\\packages\\pythonsoftwarefoundation.python.3.9_qbz5n2kfra8p0\\localcache\\local-packages\\python39\\site-packages (from requests->language-tool-python) (3.7)\n",
      "Requirement already satisfied: urllib3<3,>=1.21.1 in c:\\users\\asus\\appdata\\local\\packages\\pythonsoftwarefoundation.python.3.9_qbz5n2kfra8p0\\localcache\\local-packages\\python39\\site-packages (from requests->language-tool-python) (2.2.1)\n",
      "Requirement already satisfied: certifi>=2017.4.17 in c:\\users\\asus\\appdata\\local\\packages\\pythonsoftwarefoundation.python.3.9_qbz5n2kfra8p0\\localcache\\local-packages\\python39\\site-packages (from requests->language-tool-python) (2024.2.2)\n",
      "Requirement already satisfied: colorama in c:\\users\\asus\\appdata\\local\\packages\\pythonsoftwarefoundation.python.3.9_qbz5n2kfra8p0\\localcache\\local-packages\\python39\\site-packages (from tqdm->language-tool-python) (0.4.6)\n",
      "Downloading language_tool_python-2.9.2-py3-none-any.whl (54 kB)\n",
      "   ---------------------------------------- 0.0/54.3 kB ? eta -:--:--\n",
      "   ---------------------------------------- 54.3/54.3 kB 2.8 MB/s eta 0:00:00\n",
      "Installing collected packages: language-tool-python\n",
      "Successfully installed language-tool-python-2.9.2\n",
      "Note: you may need to restart the kernel to use updated packages.\n"
     ]
    },
    {
     "name": "stderr",
     "output_type": "stream",
     "text": [
      "\n",
      "[notice] A new release of pip is available: 24.0 -> 25.0.1\n",
      "[notice] To update, run: C:\\Users\\asus\\AppData\\Local\\Microsoft\\WindowsApps\\PythonSoftwareFoundation.Python.3.9_qbz5n2kfra8p0\\python.exe -m pip install --upgrade pip\n"
     ]
    }
   ],
   "source": [
    "# Install the language-tool-python library for grammar and spelling checking\n",
    "# It provides a Python wrapper for LanguageTool (an open-source grammar checker)\n",
    "pip install language-tool-python\n"
   ]
  },
  {
   "cell_type": "code",
   "execution_count": null,
   "id": "509f555c",
   "metadata": {},
   "outputs": [
    {
     "name": "stdout",
     "output_type": "stream",
     "text": [
      "\n",
      "Original Transcription:  She don't like to lay her body in it either.\n",
      "Number of grammar issues found: 1\n",
      "Issue: The pronoun ‘She’ is usually used with a third-person or a past tense verb.\n",
      "Context:  She don't like to lay her body in it either.\n",
      "Suggestion: ['does', 'did']\n",
      "---\n",
      "\n",
      "Grammar Score: 98/100\n"
     ]
    }
   ],
   "source": [
    "# Import the language_tool_python library for grammar checking\n",
    "import language_tool_python\n",
    "\n",
    "# Load the grammar checking tool with English (US) language configuration\n",
    "tool = language_tool_python.LanguageTool('en-US')\n",
    "\n",
    "# Use the transcribed text (make sure 'transcription' is defined earlier in your code)\n",
    "text = transcription\n",
    "print(\"\\nOriginal Transcription:\", text)\n",
    "\n",
    "# Check the transcription for grammar issues\n",
    "matches = tool.check(text)\n",
    "print(f\"Number of grammar issues found: {len(matches)}\")\n",
    "\n",
    "# Display each issue detected by LanguageTool\n",
    "for match in matches:\n",
    "    print(f\"Issue: {match.message}\")         # Description of the grammar issue\n",
    "    print(f\"Context: {match.context}\")       # Sentence or fragment where the issue occurs\n",
    "    print(f\"Suggestion: {match.replacements}\")  # Suggested corrections\n",
    "    print(\"---\")\n",
    "\n",
    "# Define a simple scoring function based on number of issues\n",
    "def calculate_grammar_score(text, issues):\n",
    "    word_count = len(text.split())              # Count words in the transcription\n",
    "    penalty = len(issues) * 2                   # Deduct 2 points for each grammar issue\n",
    "    raw_score = 100 - penalty                   # Start from 100 and subtract penalties\n",
    "    return max(raw_score, 0)                    # Ensure the score doesn't go below 0\n",
    "\n",
    "# Calculate the grammar score\n",
    "grammar_score = calculate_grammar_score(text, matches)\n",
    "print(f\"\\nGrammar Score: {grammar_score}/100\")\n"
   ]
  }
 ],
 "metadata": {
  "kernelspec": {
   "display_name": "Python 3",
   "language": "python",
   "name": "python3"
  },
  "language_info": {
   "codemirror_mode": {
    "name": "ipython",
    "version": 3
   },
   "file_extension": ".py",
   "mimetype": "text/x-python",
   "name": "python",
   "nbconvert_exporter": "python",
   "pygments_lexer": "ipython3",
   "version": "3.9.13"
  }
 },
 "nbformat": 4,
 "nbformat_minor": 5
}
